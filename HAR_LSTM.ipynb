{
 "cells": [
  {
   "cell_type": "code",
   "execution_count": null,
   "metadata": {
    "colab": {},
    "colab_type": "code",
    "id": "4aK2LRBIncA2"
   },
   "outputs": [],
   "source": [
    "import pandas as pd\n",
    "import numpy as np\n",
    "import pickle\n",
    "from scipy import stats\n",
    "import matplotlib.pyplot as plt"
   ]
  },
  {
   "cell_type": "code",
   "execution_count": null,
   "metadata": {
    "colab": {
     "base_uri": "https://localhost:8080/",
     "height": 205
    },
    "colab_type": "code",
    "id": "t80GplI4iUqs",
    "outputId": "a90a36b7-6dfc-4c9c-fce7-f18a4f1ee433"
   },
   "outputs": [
    {
     "name": "stdout",
     "output_type": "stream",
     "text": [
      "Requirement already satisfied: keras-tqdm in /usr/local/lib/python3.6/dist-packages (2.0.1)\n",
      "Requirement already satisfied: tqdm in /usr/local/lib/python3.6/dist-packages (from keras-tqdm) (4.28.1)\n",
      "Requirement already satisfied: Keras in /usr/local/lib/python3.6/dist-packages (from keras-tqdm) (2.2.5)\n",
      "Requirement already satisfied: six>=1.9.0 in /usr/local/lib/python3.6/dist-packages (from Keras->keras-tqdm) (1.12.0)\n",
      "Requirement already satisfied: h5py in /usr/local/lib/python3.6/dist-packages (from Keras->keras-tqdm) (2.8.0)\n",
      "Requirement already satisfied: numpy>=1.9.1 in /usr/local/lib/python3.6/dist-packages (from Keras->keras-tqdm) (1.16.5)\n",
      "Requirement already satisfied: keras-applications>=1.0.8 in /usr/local/lib/python3.6/dist-packages (from Keras->keras-tqdm) (1.0.8)\n",
      "Requirement already satisfied: pyyaml in /usr/local/lib/python3.6/dist-packages (from Keras->keras-tqdm) (3.13)\n",
      "Requirement already satisfied: scipy>=0.14 in /usr/local/lib/python3.6/dist-packages (from Keras->keras-tqdm) (1.3.1)\n",
      "Requirement already satisfied: keras-preprocessing>=1.1.0 in /usr/local/lib/python3.6/dist-packages (from Keras->keras-tqdm) (1.1.0)\n"
     ]
    }
   ],
   "source": [
    "!pip install keras-tqdm"
   ]
  },
  {
   "cell_type": "code",
   "execution_count": null,
   "metadata": {
    "colab": {},
    "colab_type": "code",
    "id": "nWxPTDsrsSAY"
   },
   "outputs": [],
   "source": [
    "columns = ['user', 'activity', 'timestamp', 'x-axis', 'y-axis', 'z-axis']\n",
    "df = pd.read_csv('WISDM_ar_v1.1_raw.txt', header = None, names = columns)\n",
    "df.head()\n",
    "df = df.dropna()"
   ]
  },
  {
   "cell_type": "code",
   "execution_count": null,
   "metadata": {
    "colab": {},
    "colab_type": "code",
    "id": "69Qnu4R1srft"
   },
   "outputs": [],
   "source": [
    "n_timesteps = 200\n",
    "n_features = 3\n",
    "step = 20\n",
    "segments = []\n",
    "labels = []\n",
    "for i in range(0, len(df) - n_timesteps, step):\n",
    "  x_segment = df['x-axis'].values[i: i + n_timesteps]\n",
    "  y_segment = df['y-axis'].values[i: i + n_timesteps]\n",
    "  z_segment = df['z-axis'].values[i: i + n_timesteps]\n",
    "  label = stats.mode(df['activity'][i: i + n_timesteps])[0][0]\n",
    "  segments.append([x_segment, y_segment, z_segment])\n",
    "  labels.append(label)\n",
    "  "
   ]
  },
  {
   "cell_type": "code",
   "execution_count": null,
   "metadata": {
    "colab": {
     "base_uri": "https://localhost:8080/",
     "height": 34
    },
    "colab_type": "code",
    "id": "M_YYFvivt5nM",
    "outputId": "9760c297-79f2-43e8-894a-9c769f3d265f"
   },
   "outputs": [
    {
     "data": {
      "text/plain": [
       "(54901, 3, 200)"
      ]
     },
     "execution_count": 8,
     "metadata": {
      "tags": []
     },
     "output_type": "execute_result"
    }
   ],
   "source": [
    "#input is in the format [samples, features, timesteps]\n",
    "np.array(segments).shape"
   ]
  },
  {
   "cell_type": "code",
   "execution_count": null,
   "metadata": {
    "colab": {},
    "colab_type": "code",
    "id": "zOfQY6HzvANG"
   },
   "outputs": [],
   "source": [
    "# reshaping the input segment into the format [samples, timesteps, features]\n",
    "reshaped_segments = np.asarray(segments, dtype = np.float32).reshape(-1, n_timesteps, n_features)"
   ]
  },
  {
   "cell_type": "code",
   "execution_count": null,
   "metadata": {
    "colab": {
     "base_uri": "https://localhost:8080/",
     "height": 34
    },
    "colab_type": "code",
    "id": "JHA8afz6vd-R",
    "outputId": "a5083979-87a7-4ff6-987a-076f90ab58ea"
   },
   "outputs": [
    {
     "data": {
      "text/plain": [
       "(54901, 200, 3)"
      ]
     },
     "execution_count": 10,
     "metadata": {
      "tags": []
     },
     "output_type": "execute_result"
    }
   ],
   "source": [
    "reshaped_segments.shape"
   ]
  },
  {
   "cell_type": "code",
   "execution_count": null,
   "metadata": {
    "colab": {},
    "colab_type": "code",
    "id": "_8uVw-KuwJp2"
   },
   "outputs": [],
   "source": [
    "# Applying one-hot encoding to the activity field\n",
    "labels = np.asarray(pd.get_dummies(labels), dtype = np.float32)"
   ]
  },
  {
   "cell_type": "code",
   "execution_count": null,
   "metadata": {
    "colab": {},
    "colab_type": "code",
    "id": "zAG3W4KOwhCy"
   },
   "outputs": [],
   "source": [
    "#Splitting the input data into Training set and Test set\n",
    "from sklearn.model_selection import train_test_split\n",
    "X_train, X_test, y_train, y_test = train_test_split(reshaped_segments, labels, test_size = 0.25)"
   ]
  },
  {
   "cell_type": "code",
   "execution_count": null,
   "metadata": {
    "colab": {
     "base_uri": "https://localhost:8080/",
     "height": 34
    },
    "colab_type": "code",
    "id": "DkpV-rLRyEg7",
    "outputId": "ee87935f-5f6d-4203-b5fa-5d4241d92f55"
   },
   "outputs": [
    {
     "name": "stderr",
     "output_type": "stream",
     "text": [
      "Using TensorFlow backend.\n"
     ]
    }
   ],
   "source": [
    "import keras\n",
    "from keras.models import Sequential\n",
    "from keras.layers import LSTM\n",
    "from keras.layers import Dense\n",
    "from keras.layers import Dropout"
   ]
  },
  {
   "cell_type": "code",
   "execution_count": null,
   "metadata": {
    "colab": {
     "base_uri": "https://localhost:8080/",
     "height": 222
    },
    "colab_type": "code",
    "id": "PAw2bXCZycb9",
    "outputId": "40ee1f87-7be9-484e-b899-d499083119ca"
   },
   "outputs": [
    {
     "name": "stdout",
     "output_type": "stream",
     "text": [
      "WARNING:tensorflow:From /usr/local/lib/python3.6/dist-packages/keras/backend/tensorflow_backend.py:66: The name tf.get_default_graph is deprecated. Please use tf.compat.v1.get_default_graph instead.\n",
      "\n",
      "WARNING:tensorflow:From /usr/local/lib/python3.6/dist-packages/keras/backend/tensorflow_backend.py:541: The name tf.placeholder is deprecated. Please use tf.compat.v1.placeholder instead.\n",
      "\n",
      "WARNING:tensorflow:From /usr/local/lib/python3.6/dist-packages/keras/backend/tensorflow_backend.py:4432: The name tf.random_uniform is deprecated. Please use tf.random.uniform instead.\n",
      "\n",
      "WARNING:tensorflow:From /usr/local/lib/python3.6/dist-packages/keras/backend/tensorflow_backend.py:148: The name tf.placeholder_with_default is deprecated. Please use tf.compat.v1.placeholder_with_default instead.\n",
      "\n",
      "WARNING:tensorflow:From /usr/local/lib/python3.6/dist-packages/keras/backend/tensorflow_backend.py:3733: calling dropout (from tensorflow.python.ops.nn_ops) with keep_prob is deprecated and will be removed in a future version.\n",
      "Instructions for updating:\n",
      "Please use `rate` instead of `keep_prob`. Rate should be set to `rate = 1 - keep_prob`.\n"
     ]
    }
   ],
   "source": [
    "# Building the Model\n",
    "from keras import regularizers\n",
    "epochs = 50\n",
    "batch_size = 1024\n",
    "\n",
    "model = Sequential()\n",
    "model.add(LSTM(64, input_shape = (n_timesteps, n_features), return_sequences = True, name = 'input'))\n",
    "model.add(Dropout(rate = 0.5))\n",
    "model.add(LSTM(64,return_sequences = False))\n",
    "model.add(Dense(100, activation = 'relu'))\n",
    "model.add(Dense(6, activation = 'softmax', kernel_regularizer = regularizers.l2(0.0015), name = 'output'))"
   ]
  },
  {
   "cell_type": "code",
   "execution_count": null,
   "metadata": {
    "colab": {
     "base_uri": "https://localhost:8080/",
     "height": 104
    },
    "colab_type": "code",
    "id": "Sfp0rLLM0Ir7",
    "outputId": "0c9b27dd-257c-48eb-ce32-896a69ad16e9"
   },
   "outputs": [
    {
     "name": "stdout",
     "output_type": "stream",
     "text": [
      "WARNING:tensorflow:From /usr/local/lib/python3.6/dist-packages/keras/optimizers.py:793: The name tf.train.Optimizer is deprecated. Please use tf.compat.v1.train.Optimizer instead.\n",
      "\n",
      "WARNING:tensorflow:From /usr/local/lib/python3.6/dist-packages/keras/backend/tensorflow_backend.py:3576: The name tf.log is deprecated. Please use tf.math.log instead.\n",
      "\n"
     ]
    }
   ],
   "source": [
    "# Compiling the Model\n",
    "from keras import optimizers\n",
    "\n",
    "adam = keras.optimizers.Adam(lr = 0.0025, beta_1 = 0.9, beta_2 = 0.999, epsilon = None, decay = 0.0, amsgrad = False)\n",
    "model.compile(loss = 'categorical_crossentropy', optimizer = adam, metrics = ['accuracy'])"
   ]
  },
  {
   "cell_type": "code",
   "execution_count": null,
   "metadata": {
    "colab": {
     "base_uri": "https://localhost:8080/",
     "height": 1000
    },
    "colab_type": "code",
    "id": "wByoy08J0c4d",
    "outputId": "01df3b3a-69ca-47cd-d226-69aa28b1a426"
   },
   "outputs": [
    {
     "name": "stdout",
     "output_type": "stream",
     "text": [
      "WARNING:tensorflow:From /usr/local/lib/python3.6/dist-packages/tensorflow_core/python/ops/math_grad.py:1424: where (from tensorflow.python.ops.array_ops) is deprecated and will be removed in a future version.\n",
      "Instructions for updating:\n",
      "Use tf.where in 2.0, which has the same broadcast rule as np.where\n",
      "WARNING:tensorflow:From /usr/local/lib/python3.6/dist-packages/keras/backend/tensorflow_backend.py:1033: The name tf.assign_add is deprecated. Please use tf.compat.v1.assign_add instead.\n",
      "\n",
      "WARNING:tensorflow:From /usr/local/lib/python3.6/dist-packages/keras/backend/tensorflow_backend.py:1020: The name tf.assign is deprecated. Please use tf.compat.v1.assign instead.\n",
      "\n",
      "WARNING:tensorflow:From /usr/local/lib/python3.6/dist-packages/keras/backend/tensorflow_backend.py:3005: The name tf.Session is deprecated. Please use tf.compat.v1.Session instead.\n",
      "\n",
      "Train on 41175 samples, validate on 13726 samples\n",
      "Epoch 1/50\n",
      "WARNING:tensorflow:From /usr/local/lib/python3.6/dist-packages/keras/backend/tensorflow_backend.py:190: The name tf.get_default_session is deprecated. Please use tf.compat.v1.get_default_session instead.\n",
      "\n",
      "WARNING:tensorflow:From /usr/local/lib/python3.6/dist-packages/keras/backend/tensorflow_backend.py:197: The name tf.ConfigProto is deprecated. Please use tf.compat.v1.ConfigProto instead.\n",
      "\n",
      "WARNING:tensorflow:From /usr/local/lib/python3.6/dist-packages/keras/backend/tensorflow_backend.py:207: The name tf.global_variables is deprecated. Please use tf.compat.v1.global_variables instead.\n",
      "\n",
      "WARNING:tensorflow:From /usr/local/lib/python3.6/dist-packages/keras/backend/tensorflow_backend.py:216: The name tf.is_variable_initialized is deprecated. Please use tf.compat.v1.is_variable_initialized instead.\n",
      "\n",
      "WARNING:tensorflow:From /usr/local/lib/python3.6/dist-packages/keras/backend/tensorflow_backend.py:223: The name tf.variables_initializer is deprecated. Please use tf.compat.v1.variables_initializer instead.\n",
      "\n",
      "41175/41175 [==============================] - 47s 1ms/step - loss: 1.0117 - acc: 0.6376 - val_loss: 0.6507 - val_acc: 0.7772\n",
      "Epoch 2/50\n",
      "41175/41175 [==============================] - 42s 1ms/step - loss: 0.5717 - acc: 0.8011 - val_loss: 0.5736 - val_acc: 0.7980\n",
      "Epoch 3/50\n",
      "41175/41175 [==============================] - 41s 1ms/step - loss: 0.4944 - acc: 0.8245 - val_loss: 0.4636 - val_acc: 0.8264\n",
      "Epoch 4/50\n",
      "41175/41175 [==============================] - 42s 1ms/step - loss: 0.4387 - acc: 0.8410 - val_loss: 0.4451 - val_acc: 0.8458\n",
      "Epoch 5/50\n",
      "41175/41175 [==============================] - 41s 1ms/step - loss: 0.4069 - acc: 0.8513 - val_loss: 0.3764 - val_acc: 0.8571\n",
      "Epoch 6/50\n",
      "41175/41175 [==============================] - 42s 1ms/step - loss: 0.3627 - acc: 0.8652 - val_loss: 0.3604 - val_acc: 0.8649\n",
      "Epoch 7/50\n",
      "41175/41175 [==============================] - 41s 1ms/step - loss: 0.3388 - acc: 0.8750 - val_loss: 0.3207 - val_acc: 0.8799\n",
      "Epoch 8/50\n",
      "41175/41175 [==============================] - 41s 1000us/step - loss: 0.2912 - acc: 0.8924 - val_loss: 0.2919 - val_acc: 0.8945\n",
      "Epoch 9/50\n",
      "41175/41175 [==============================] - 41s 999us/step - loss: 0.2686 - acc: 0.9009 - val_loss: 0.2739 - val_acc: 0.8991\n",
      "Epoch 10/50\n",
      "41175/41175 [==============================] - 41s 1ms/step - loss: 0.2543 - acc: 0.9090 - val_loss: 0.2628 - val_acc: 0.9036\n",
      "Epoch 11/50\n",
      "41175/41175 [==============================] - 41s 1ms/step - loss: 0.2388 - acc: 0.9133 - val_loss: 0.2426 - val_acc: 0.9141\n",
      "Epoch 12/50\n",
      "41175/41175 [==============================] - 41s 1ms/step - loss: 0.2208 - acc: 0.9217 - val_loss: 0.2270 - val_acc: 0.9176\n",
      "Epoch 13/50\n",
      "41175/41175 [==============================] - 42s 1ms/step - loss: 0.2056 - acc: 0.9260 - val_loss: 0.2222 - val_acc: 0.9188\n",
      "Epoch 14/50\n",
      "41175/41175 [==============================] - 41s 1ms/step - loss: 0.1941 - acc: 0.9308 - val_loss: 0.1948 - val_acc: 0.9291\n",
      "Epoch 15/50\n",
      "41175/41175 [==============================] - 41s 1ms/step - loss: 0.2047 - acc: 0.9309 - val_loss: 0.1943 - val_acc: 0.9313\n",
      "Epoch 16/50\n",
      "41175/41175 [==============================] - 41s 1ms/step - loss: 0.1831 - acc: 0.9348 - val_loss: 0.1775 - val_acc: 0.9358\n",
      "Epoch 17/50\n",
      "41175/41175 [==============================] - 41s 1ms/step - loss: 0.1519 - acc: 0.9473 - val_loss: 0.1607 - val_acc: 0.9440\n",
      "Epoch 18/50\n",
      "41175/41175 [==============================] - 41s 1ms/step - loss: 0.1434 - acc: 0.9519 - val_loss: 0.1593 - val_acc: 0.9446\n",
      "Epoch 19/50\n",
      "41175/41175 [==============================] - 41s 1ms/step - loss: 0.1291 - acc: 0.9567 - val_loss: 0.1543 - val_acc: 0.9488\n",
      "Epoch 20/50\n",
      "41175/41175 [==============================] - 42s 1ms/step - loss: 0.1357 - acc: 0.9558 - val_loss: 0.1611 - val_acc: 0.9463\n",
      "Epoch 21/50\n",
      "41175/41175 [==============================] - 42s 1ms/step - loss: 0.1347 - acc: 0.9576 - val_loss: 0.1343 - val_acc: 0.9572\n",
      "Epoch 22/50\n",
      "41175/41175 [==============================] - 41s 1000us/step - loss: 0.1262 - acc: 0.9578 - val_loss: 0.1521 - val_acc: 0.9497\n",
      "Epoch 23/50\n",
      "41175/41175 [==============================] - 41s 993us/step - loss: 0.1215 - acc: 0.9599 - val_loss: 0.1627 - val_acc: 0.9486\n",
      "Epoch 24/50\n",
      "41175/41175 [==============================] - 41s 1ms/step - loss: 0.1149 - acc: 0.9622 - val_loss: 0.1257 - val_acc: 0.9595\n",
      "Epoch 25/50\n",
      "41175/41175 [==============================] - 41s 1ms/step - loss: 0.1020 - acc: 0.9670 - val_loss: 0.1293 - val_acc: 0.9601\n",
      "Epoch 26/50\n",
      "41175/41175 [==============================] - 41s 1ms/step - loss: 0.0968 - acc: 0.9695 - val_loss: 0.1086 - val_acc: 0.9661\n",
      "Epoch 27/50\n",
      "41175/41175 [==============================] - 41s 1ms/step - loss: 0.0926 - acc: 0.9701 - val_loss: 0.1111 - val_acc: 0.9651\n",
      "Epoch 28/50\n",
      "41175/41175 [==============================] - 41s 1ms/step - loss: 0.0898 - acc: 0.9708 - val_loss: 0.1195 - val_acc: 0.9598\n",
      "Epoch 29/50\n",
      "41175/41175 [==============================] - 41s 1ms/step - loss: 0.0859 - acc: 0.9724 - val_loss: 0.1143 - val_acc: 0.9641\n",
      "Epoch 30/50\n",
      "41175/41175 [==============================] - 41s 1ms/step - loss: 0.0791 - acc: 0.9750 - val_loss: 0.1042 - val_acc: 0.9662\n",
      "Epoch 31/50\n",
      "41175/41175 [==============================] - 41s 1ms/step - loss: 0.0736 - acc: 0.9766 - val_loss: 0.1003 - val_acc: 0.9657\n",
      "Epoch 32/50\n",
      "41175/41175 [==============================] - 41s 1ms/step - loss: 0.0768 - acc: 0.9754 - val_loss: 0.1624 - val_acc: 0.9484\n",
      "Epoch 33/50\n",
      "41175/41175 [==============================] - 41s 1ms/step - loss: 0.1311 - acc: 0.9598 - val_loss: 0.1233 - val_acc: 0.9621\n",
      "Epoch 34/50\n",
      "41175/41175 [==============================] - 41s 1ms/step - loss: 0.0736 - acc: 0.9766 - val_loss: 0.0985 - val_acc: 0.9710\n",
      "Epoch 35/50\n",
      "41175/41175 [==============================] - 41s 1ms/step - loss: 0.0719 - acc: 0.9768 - val_loss: 0.0931 - val_acc: 0.9716\n",
      "Epoch 36/50\n",
      "41175/41175 [==============================] - 41s 1ms/step - loss: 0.0667 - acc: 0.9787 - val_loss: 0.1001 - val_acc: 0.9687\n",
      "Epoch 37/50\n",
      "41175/41175 [==============================] - 40s 979us/step - loss: 0.0643 - acc: 0.9795 - val_loss: 0.0841 - val_acc: 0.9736\n",
      "Epoch 38/50\n",
      "41175/41175 [==============================] - 41s 990us/step - loss: 0.0531 - acc: 0.9838 - val_loss: 0.0895 - val_acc: 0.9753\n",
      "Epoch 39/50\n",
      "41175/41175 [==============================] - 41s 1ms/step - loss: 0.0591 - acc: 0.9815 - val_loss: 0.0785 - val_acc: 0.9771\n",
      "Epoch 40/50\n",
      "41175/41175 [==============================] - 41s 998us/step - loss: 0.0539 - acc: 0.9831 - val_loss: 0.0794 - val_acc: 0.9753\n",
      "Epoch 41/50\n",
      "41175/41175 [==============================] - 41s 1ms/step - loss: 0.0521 - acc: 0.9835 - val_loss: 0.0837 - val_acc: 0.9743\n",
      "Epoch 42/50\n",
      "41175/41175 [==============================] - 42s 1ms/step - loss: 0.0458 - acc: 0.9859 - val_loss: 0.0758 - val_acc: 0.9774\n",
      "Epoch 43/50\n",
      "41175/41175 [==============================] - 41s 1ms/step - loss: 0.0486 - acc: 0.9847 - val_loss: 0.1068 - val_acc: 0.9673\n",
      "Epoch 44/50\n",
      "41175/41175 [==============================] - 41s 988us/step - loss: 0.0520 - acc: 0.9843 - val_loss: 0.0707 - val_acc: 0.9780\n",
      "Epoch 45/50\n",
      "41175/41175 [==============================] - 41s 1ms/step - loss: 0.0449 - acc: 0.9868 - val_loss: 0.0754 - val_acc: 0.9786\n",
      "Epoch 46/50\n",
      "41175/41175 [==============================] - 41s 1ms/step - loss: 0.0397 - acc: 0.9880 - val_loss: 0.0764 - val_acc: 0.9787\n",
      "Epoch 47/50\n",
      "41175/41175 [==============================] - 41s 1ms/step - loss: 0.0413 - acc: 0.9872 - val_loss: 0.0713 - val_acc: 0.9787\n",
      "Epoch 48/50\n",
      "41175/41175 [==============================] - 41s 1ms/step - loss: 0.0405 - acc: 0.9869 - val_loss: 0.0879 - val_acc: 0.9753\n",
      "Epoch 49/50\n",
      "41175/41175 [==============================] - 41s 1ms/step - loss: 0.0402 - acc: 0.9876 - val_loss: 0.0727 - val_acc: 0.9785\n",
      "Epoch 50/50\n",
      "41175/41175 [==============================] - 41s 1ms/step - loss: 0.0370 - acc: 0.9889 - val_loss: 0.0747 - val_acc: 0.9786\n"
     ]
    }
   ],
   "source": [
    "from keras_tqdm import TQDMNotebookCallback\n",
    "har_model = model.fit(X_train, y_train, epochs = epochs, batch_size = batch_size, validation_data = (X_test, y_test), verbose = 1)"
   ]
  },
  {
   "cell_type": "code",
   "execution_count": null,
   "metadata": {
    "colab": {},
    "colab_type": "code",
    "id": "zW7xR0aafFfj"
   },
   "outputs": [],
   "source": [
    "from keras.callbacks import History \n",
    "\n",
    "train_loss = har_model.history['loss']\n",
    "val_loss   = har_model.history['val_loss']\n",
    "train_acc  = har_model.history['acc']\n",
    "val_acc    = har_model.history['val_acc']\n",
    "xc         = range(epochs)"
   ]
  },
  {
   "cell_type": "code",
   "execution_count": null,
   "metadata": {
    "colab": {
     "base_uri": "https://localhost:8080/",
     "height": 319
    },
    "colab_type": "code",
    "id": "yR_U7N9whNAe",
    "outputId": "1dc500a2-10fb-41d3-8d25-bbe0f0b90890"
   },
   "outputs": [
    {
     "name": "stdout",
     "output_type": "stream",
     "text": [
      "Model: \"sequential_1\"\n",
      "_________________________________________________________________\n",
      "Layer (type)                 Output Shape              Param #   \n",
      "=================================================================\n",
      "input (LSTM)                 (None, 200, 64)           17408     \n",
      "_________________________________________________________________\n",
      "dropout_1 (Dropout)          (None, 200, 64)           0         \n",
      "_________________________________________________________________\n",
      "lstm_1 (LSTM)                (None, 64)                33024     \n",
      "_________________________________________________________________\n",
      "dense_1 (Dense)              (None, 100)               6500      \n",
      "_________________________________________________________________\n",
      "output (Dense)               (None, 6)                 606       \n",
      "=================================================================\n",
      "Total params: 57,538\n",
      "Trainable params: 57,538\n",
      "Non-trainable params: 0\n",
      "_________________________________________________________________\n"
     ]
    }
   ],
   "source": [
    "model.summary()"
   ]
  },
  {
   "cell_type": "code",
   "execution_count": null,
   "metadata": {
    "colab": {
     "base_uri": "https://localhost:8080/",
     "height": 34
    },
    "colab_type": "code",
    "id": "ADiwT4ldp3Jj",
    "outputId": "9ce9482b-6d0a-4d21-a981-5b4d89ec595f"
   },
   "outputs": [
    {
     "data": {
      "text/plain": [
       "['output/Softmax']"
      ]
     },
     "execution_count": 19,
     "metadata": {
      "tags": []
     },
     "output_type": "execute_result"
    }
   ],
   "source": [
    "[node.op.name for node in model.outputs]"
   ]
  },
  {
   "cell_type": "code",
   "execution_count": null,
   "metadata": {
    "colab": {},
    "colab_type": "code",
    "id": "umQW63LtqUaj"
   },
   "outputs": [],
   "source": [
    "session = keras.backend.get_session()"
   ]
  },
  {
   "cell_type": "code",
   "execution_count": null,
   "metadata": {
    "colab": {
     "base_uri": "https://localhost:8080/",
     "height": 171
    },
    "colab_type": "code",
    "id": "CuG_5FsbqX9D",
    "outputId": "f1b3beae-a8bc-4c47-8662-905a639a7ad1"
   },
   "outputs": [
    {
     "name": "stdout",
     "output_type": "stream",
     "text": [
      "WARNING:tensorflow:From <ipython-input-21-598b967d47ad>:2: convert_variables_to_constants (from tensorflow.python.framework.graph_util_impl) is deprecated and will be removed in a future version.\n",
      "Instructions for updating:\n",
      "Use `tf.compat.v1.graph_util.convert_variables_to_constants`\n",
      "WARNING:tensorflow:From /usr/local/lib/python3.6/dist-packages/tensorflow_core/python/framework/graph_util_impl.py:277: extract_sub_graph (from tensorflow.python.framework.graph_util_impl) is deprecated and will be removed in a future version.\n",
      "Instructions for updating:\n",
      "Use `tf.compat.v1.graph_util.extract_sub_graph`\n",
      "INFO:tensorflow:Froze 10 variables.\n",
      "INFO:tensorflow:Converted 10 variables to const ops.\n"
     ]
    }
   ],
   "source": [
    "from tensorflow.python.framework.graph_util import convert_variables_to_constants\n",
    "min_graph = convert_variables_to_constants(session, session.graph_def, [node.op.name for node in model.outputs])"
   ]
  },
  {
   "cell_type": "code",
   "execution_count": null,
   "metadata": {
    "colab": {
     "base_uri": "https://localhost:8080/",
     "height": 34
    },
    "colab_type": "code",
    "id": "TmrJdy4zqbHE",
    "outputId": "c602965c-abda-4bb7-a28f-eb11d6de0db7"
   },
   "outputs": [
    {
     "data": {
      "text/plain": [
       "'content/har.pb'"
      ]
     },
     "execution_count": 22,
     "metadata": {
      "tags": []
     },
     "output_type": "execute_result"
    }
   ],
   "source": [
    "import tensorflow\n",
    "tensorflow.train.write_graph(min_graph, \"content/\", \"har.pb\", as_text=False)"
   ]
  },
  {
   "cell_type": "code",
   "execution_count": null,
   "metadata": {
    "colab": {
     "base_uri": "https://localhost:8080/",
     "height": 513
    },
    "colab_type": "code",
    "id": "HUSQFyzXrRTy",
    "outputId": "5497bf12-1837-44a8-9fa4-1c1331c914db"
   },
   "outputs": [
    {
     "data": {
      "image/png": "[encoded data removed]",
      "text/plain": [
       "<Figure size 864x576 with 1 Axes>"
      ]
     },
     "metadata": {
      "tags": []
     },
     "output_type": "display_data"
    }
   ],
   "source": [
    "plt.figure(figsize = (12,8))\n",
    "\n",
    "plt.plot(np.array(har_model.history['loss']),\"r--\", label = \"Train Loss\")\n",
    "plt.plot(np.array(har_model.history['acc']), \"g--\", label = \"Train Accuracy\")\n",
    "plt.plot(np.array(har_model.history['val_loss']), \"r--\", label = \"Test Loss\")\n",
    "plt.plot(np.array(har_model.history['val_acc']), \"g--\", label = \"Test Accuracy\")\n",
    "\n",
    "plt.title(\"Training Session's Progress Over Iterations\")\n",
    "plt.legend(loc = 'upper right', shadow = True)\n",
    "plt.ylabel(\"Training Progress (Loss or Accuracy Values)\")\n",
    "plt.xlabel(\"Training Epoch\")\n",
    "plt.ylim(0)\n",
    "\n",
    "plt.show()"
   ]
  },
  {
   "cell_type": "code",
   "execution_count": null,
   "metadata": {
    "colab": {
     "base_uri": "https://localhost:8080/",
     "height": 34
    },
    "colab_type": "code",
    "id": "-NgyWcNitm3N",
    "outputId": "49c33d5b-f29c-4693-af1b-4f683cd596c6"
   },
   "outputs": [
    {
     "name": "stdout",
     "output_type": "stream",
     "text": [
      "13726/13726 [==============================] - 124s 9ms/step\n"
     ]
    }
   ],
   "source": [
    "evals = model.evaluate(X_test, y_test)[1]"
   ]
  },
  {
   "cell_type": "code",
   "execution_count": null,
   "metadata": {
    "colab": {
     "base_uri": "https://localhost:8080/",
     "height": 34
    },
    "colab_type": "code",
    "id": "xK8shLWHxk6B",
    "outputId": "06680e24-2b91-45fe-cf39-38c6a436a5f1"
   },
   "outputs": [
    {
     "data": {
      "text/plain": [
       "0.9785807955096557"
      ]
     },
     "execution_count": 25,
     "metadata": {
      "tags": []
     },
     "output_type": "execute_result"
    }
   ],
   "source": [
    "evals"
   ]
  },
  {
   "cell_type": "code",
   "execution_count": null,
   "metadata": {
    "colab": {},
    "colab_type": "code",
    "id": "UWMOGEvEyM7F"
   },
   "outputs": [],
   "source": [
    "y_pred = model.predict(X_test)"
   ]
  },
  {
   "cell_type": "code",
   "execution_count": null,
   "metadata": {
    "colab": {},
    "colab_type": "code",
    "id": "obj3QSRhzzMS"
   },
   "outputs": [],
   "source": [
    "LABELS = ['Downstairs', 'Jogging', 'Sitting', 'Standing', 'Upstairs', 'Walking']"
   ]
  },
  {
   "cell_type": "code",
   "execution_count": null,
   "metadata": {
    "colab": {
     "base_uri": "https://localhost:8080/",
     "height": 839
    },
    "colab_type": "code",
    "id": "U1prfVteyg7g",
    "outputId": "991ac644-3497-4557-e6b4-924f44491d36"
   },
   "outputs": [
    {
     "data": {
      "image/png": "[encoded data removed]",
      "text/plain": [
       "<Figure size 1152x1008 with 2 Axes>"
      ]
     },
     "metadata": {
      "tags": []
     },
     "output_type": "display_data"
    }
   ],
   "source": [
    "import seaborn as sns\n",
    "from sklearn import metrics \n",
    "\n",
    "max_test = np.argmax(y_test, axis = 1)\n",
    "max_predictions = np.argmax(y_pred, axis = 1)\n",
    "confusion_matrix = metrics.confusion_matrix(max_test,max_predictions)\n",
    "\n",
    "plt.figure(figsize = (16,14))\n",
    "sns.heatmap(confusion_matrix, xticklabels = LABELS, yticklabels = LABELS, annot = True, fmt = 'd');\n",
    "plt.title(\"Confusion Matrix\")\n",
    "plt.ylabel(\"True Label\")\n",
    "plt.xlabel(\"Predicted Label\")\n",
    "plt.show()"
   ]
  }
 ],
 "metadata": {
  "accelerator": "GPU",
  "colab": {
   "collapsed_sections": [],
   "name": "HAR LSTM.ipynb",
   "provenance": []
  },
  "kernelspec": {
   "display_name": "Python 3",
   "language": "python",
   "name": "python3"
  },
  "language_info": {
   "codemirror_mode": {
    "name": "ipython",
    "version": 3
   },
   "file_extension": ".py",
   "mimetype": "text/x-python",
   "name": "python",
   "nbconvert_exporter": "python",
   "pygments_lexer": "ipython3",
   "version": "3.7.3"
  }
 },
 "nbformat": 4,
 "nbformat_minor": 4
}
